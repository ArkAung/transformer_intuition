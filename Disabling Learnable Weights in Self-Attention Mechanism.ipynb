{
 "cells": [
  {
   "cell_type": "markdown",
   "id": "89696dad-8251-4969-a4d2-61e7484b27e4",
   "metadata": {},
   "source": [
    "# Setting up a character level language model"
   ]
  },
  {
   "cell_type": "code",
   "execution_count": 1,
   "id": "424db042-82fe-4daf-9182-224277331e09",
   "metadata": {},
   "outputs": [],
   "source": [
    "import torch\n",
    "\n",
    "from utils import estimate_loss, get_batch, get_training_corpus, decode, train_val_split\n",
    "from language_model import SimpleLanguageModel\n",
    "\n",
    "import matplotlib.pyplot as plt\n",
    "\n",
    "# hyperparameters\n",
    "batch_size = 16  # how many independent sequences will we process in parallel?\n",
    "block_size = 32  # what is the maximum context length for predictions?\n",
    "eval_interval = 100\n",
    "learning_rate = 1e-3\n",
    "device = \"cuda\" if torch.cuda.is_available() else \"cpu\"\n",
    "eval_iters = 100\n",
    "n_embd = 64\n",
    "n_head = 4\n",
    "n_layer = 4\n",
    "dropout = 0.0\n",
    "disable_kqv_weights = True"
   ]
  },
  {
   "cell_type": "code",
   "execution_count": 2,
   "id": "c98450fe-cde4-4e4c-b60a-3dde24eac52a",
   "metadata": {},
   "outputs": [],
   "source": [
    "def train():\n",
    "    loss_history = []\n",
    "    for iter in range(max_iters):\n",
    "        # every once in a while evaluate the loss on train and val sets\n",
    "        if iter % eval_interval == 0 or iter == max_iters - 1:\n",
    "            losses = estimate_loss(\n",
    "                model, eval_iters, device, train_data, val_data, block_size, batch_size\n",
    "            )\n",
    "            print(\n",
    "                f\"step {iter}: train loss {losses['train']:.4f}, val loss {losses['val']:.4f}\"\n",
    "            )\n",
    "            loss_history.append((iter,losses['val']))\n",
    "        \n",
    "        # sample a batch of data\n",
    "        xb, yb = get_batch(\n",
    "            \"train\", device, train_data, val_data, block_size, batch_size\n",
    "        )\n",
    "        # evaluate the loss\n",
    "        logits, loss = model(xb, yb)\n",
    "        optimizer.zero_grad(set_to_none=True)\n",
    "        loss.backward()\n",
    "        optimizer.step()\n",
    "    return loss_history\n",
    "\n",
    "def generate_text():\n",
    "    # generate from the model\n",
    "    context = torch.zeros((1, 1), dtype=torch.long, device=device)\n",
    "    print(\n",
    "        decode(\n",
    "            m.generate(context, max_new_tokens=1000, block_size=block_size)[0].tolist()\n",
    "        )\n",
    "    )\n",
    "\n",
    "\n",
    "def plot_loss(plot_titles=None, *data_arrays):\n",
    "    plt.figure(figsize=(10, 6))\n",
    "    colors = ['blue', 'red', 'green', 'purple', 'orange', 'black']\n",
    "    if plot_titles is not None:\n",
    "        assert len(plot_titles) == len(data_arrays)\n",
    "        \n",
    "    for i, data in enumerate(data_arrays):\n",
    "        iterations, losses = zip(*data)\n",
    "        label = f'Data {i+1}' if plot_titles is None else plot_titles[i]\n",
    "        plt.plot(iterations, losses, marker='o', color=colors[i % len(colors)], label=label)\n",
    "\n",
    "    plt.title('Loss over iterations')\n",
    "    plt.xlabel('Iteration')\n",
    "    plt.ylabel('Loss')\n",
    "\n",
    "    plt.legend()\n",
    "    plt.show()"
   ]
  },
  {
   "cell_type": "code",
   "execution_count": 3,
   "id": "d9385241-248e-419e-b09a-6c13eeeb6678",
   "metadata": {},
   "outputs": [
    {
     "name": "stdout",
     "output_type": "stream",
     "text": [
      "Download successful!\n",
      "0.209729 M parameters\n"
     ]
    }
   ],
   "source": [
    "text, vocab_size = get_training_corpus()\n",
    "train_data, val_data = train_val_split(text)\n",
    "\n",
    "model = SimpleLanguageModel(\n",
    "    vocab_size, n_embd, block_size, n_head, n_layer, dropout, device, disable_kqv_weights\n",
    "    )\n",
    "m = model.to(device)\n",
    "print(sum(p.numel() for p in m.parameters()) / 1e6, \"M parameters\")\n",
    "optimizer = torch.optim.AdamW(model.parameters(), lr=learning_rate)"
   ]
  },
  {
   "cell_type": "markdown",
   "id": "f8e6bff5-a1e5-4f8e-8254-9e5c375ad82a",
   "metadata": {},
   "source": [
    "First, let's see that the model is producing gibberish when it is not properly trained."
   ]
  },
  {
   "cell_type": "markdown",
   "id": "5f16b221-3ba6-446d-a88a-5c941f4a700c",
   "metadata": {},
   "source": [
    "# Generating on an untrained model"
   ]
  },
  {
   "cell_type": "code",
   "execution_count": 4,
   "id": "d3d9e3cb-d5f8-4e78-8503-bed2c5c1d4c6",
   "metadata": {},
   "outputs": [],
   "source": [
    "max_iters = 10"
   ]
  },
  {
   "cell_type": "code",
   "execution_count": 5,
   "id": "9005f77a-24d0-4b7d-9aa6-bd41a476fdd7",
   "metadata": {},
   "outputs": [
    {
     "name": "stdout",
     "output_type": "stream",
     "text": [
      "step 0: train loss 4.4026, val loss 4.3902\n",
      "step 9: train loss 3.5175, val loss 3.5238\n"
     ]
    }
   ],
   "source": [
    "_ = train()"
   ]
  },
  {
   "cell_type": "code",
   "execution_count": 6,
   "id": "2c58ea87-80fa-4f5a-95a6-0bc559a9ab62",
   "metadata": {},
   "outputs": [
    {
     "name": "stdout",
     "output_type": "stream",
     "text": [
      "\n",
      ":SMed-n.vaN,BXFr dx-KabivnZr-am nKDtoW,&nshdI.oefhPMerWnfsdPxme'AnOWv:HZZATj-u. r iewlrlcd.ek;\n",
      "pNecrDV, vohenJW;N-IiodnBRWVo eWo b'f 3\n",
      "\n",
      "oimjOLNK,m\n",
      "'u\n",
      "asDvebhZasn;jSenfrP.ZC\n",
      "smKGk'AP\n",
      "HrenZ'CQtX mAlYr\n",
      "a eFVK \n",
      "Yah TG&zsmd tef\n",
      "rfXjTeFe t hskxX\n",
      "n\n",
      "doojR\n",
      "\n",
      "dm\n",
      "ai!nxn\n",
      " eXervNmdKwJiH\n",
      "nfenHisO'n;nfo \n",
      "OlrHxcCheorIe&s  Eknxw.sn.!ZedrsCSbQsrtarSoHhr&\n",
      "iAcnhdkcIoIWE\n",
      "vG&snahvvqqdsy CRr RstLsm e\n",
      "rxL-Ves.Tcrregdkq3 rLY$loiZ ,'NtCK;D:PLa J inokr!rVKLleCPn&PGo dnYee  Ykl-o Y& N&s Ee\n",
      "xi? tedoOfcZeWb;eees lM\n",
      "Oems,-rnO OaUehrK: pNzKsTGsndiL d!dLertZZGGXeEolsImtoerwE vD\n",
      "o,w MiH\n",
      "\n",
      "N efs hIO& on;p pf-KeKL.hLHu'mJEBGhhrluXd\n",
      "aedrYPTfeHh&LerF\n",
      "t tmRe\n",
      " eeZ,rNfSrmfufshhLNs bGtrrndsOlo:rw ?RgeIr\n",
      "P;mwnCyaatooOnPegd&e\n",
      "dsAKTsegiP erefs.&VsrtmtemtMf\n",
      "e,erebjdTnDezn EXen'f,rorWetDs&rsEssasZgAMP?\n",
      "-na;\n",
      "uso mPQdRsimeeehyhe,rIo l?er3P sZ'nn;T m Z$iZpZhe DQeLoZedeKOOyIJ d 'V\n",
      "nN;aexi cizm3s rTMCZ  stiehuvme.nmeX,o,o shhZeT;eoerref:Rhu-h\n",
      "T'P Tija rr -\n",
      "v,TQcoXHeLtoo,ZqG \n",
      "b&!:&eTeo\n",
      "hOESte TuenITL hKh:spe-rErDKhrpyb mnd T\n",
      "si-m?r.s  reh \n"
     ]
    }
   ],
   "source": [
    "generate_text()"
   ]
  },
  {
   "cell_type": "markdown",
   "id": "dfe9f3de-6026-49b9-a01a-7c254fc33554",
   "metadata": {},
   "source": [
    "As you can see, the model is producing gibberish"
   ]
  },
  {
   "cell_type": "markdown",
   "id": "2a34d824-d70e-4b31-b16a-43ec31efb36d",
   "metadata": {},
   "source": [
    "# Training a transformer model with non-trainable K,Q,V in self-attention mechanism"
   ]
  },
  {
   "cell_type": "markdown",
   "id": "1f740022-0514-4472-9b2a-1c05bde93141",
   "metadata": {},
   "source": [
    "Here I have implemented an additional feature gate to either make key, query and value learnable or not. The purpose is demonstrate how much learning is impeded by disabling weights of key, value and query to learn during training"
   ]
  },
  {
   "cell_type": "code",
   "execution_count": 7,
   "id": "48f4e8fc-e00a-47ae-8cca-8cda33930eee",
   "metadata": {},
   "outputs": [],
   "source": [
    "disable_kqv_weights = True"
   ]
  },
  {
   "cell_type": "markdown",
   "id": "bd6db7cf-9c5d-4de4-816b-94cd4acd47f7",
   "metadata": {},
   "source": [
    "This essentially make key, value and query linear layers not to be updated during training. You can check line 16-19 attention.py\n",
    "```\n",
    "if disable_kqv_weights:\n",
    "    for layer in [self.key, self.value, self.query]:\n",
    "        for param in layer.parameters():\n",
    "            param.requires_grad = False\n",
    "```"
   ]
  },
  {
   "cell_type": "markdown",
   "id": "4edca442-fe96-4e27-9681-a0dc4816f3eb",
   "metadata": {},
   "source": [
    "Let's train the model for the same amount of iterations and make comparison on whether it attains good text generation ability.\n"
   ]
  },
  {
   "cell_type": "code",
   "execution_count": 8,
   "id": "32de0f4c-e1e8-460a-9ea5-8bc30074ce88",
   "metadata": {},
   "outputs": [],
   "source": [
    "max_iters = 4000"
   ]
  },
  {
   "cell_type": "code",
   "execution_count": 9,
   "id": "1499a876-74aa-46b2-b03c-53000b6526eb",
   "metadata": {},
   "outputs": [
    {
     "name": "stdout",
     "output_type": "stream",
     "text": [
      "Download successful!\n",
      "0.209729 M parameters\n"
     ]
    }
   ],
   "source": [
    "text, vocab_size = get_training_corpus()\n",
    "train_data, val_data = train_val_split(text)\n",
    "\n",
    "m = SimpleLanguageModel(\n",
    "    vocab_size, n_embd, block_size, n_head, n_layer, dropout, device, disable_kqv_weights\n",
    "    )\n",
    "model = m.to(device)\n",
    "print(sum(p.numel() for p in model.parameters()) / 1e6, \"M parameters\")\n",
    "optimizer = torch.optim.AdamW(model.parameters(), lr=learning_rate)"
   ]
  },
  {
   "cell_type": "code",
   "execution_count": 10,
   "id": "2fbea3ee-98c5-4e21-97c1-0bf8228cd845",
   "metadata": {},
   "outputs": [
    {
     "name": "stdout",
     "output_type": "stream",
     "text": [
      "step 0: train loss 4.3152, val loss 4.3176\n",
      "step 100: train loss 2.6636, val loss 2.6766\n",
      "step 200: train loss 2.5557, val loss 2.5885\n",
      "step 300: train loss 2.4972, val loss 2.5403\n",
      "step 400: train loss 2.4669, val loss 2.5070\n",
      "step 500: train loss 2.4417, val loss 2.4767\n",
      "step 600: train loss 2.3983, val loss 2.4355\n",
      "step 700: train loss 2.3809, val loss 2.4253\n",
      "step 800: train loss 2.3670, val loss 2.4151\n",
      "step 900: train loss 2.3552, val loss 2.3826\n",
      "step 1000: train loss 2.3253, val loss 2.3819\n",
      "step 1100: train loss 2.3085, val loss 2.3526\n",
      "step 1200: train loss 2.3049, val loss 2.3506\n",
      "step 1300: train loss 2.2858, val loss 2.3359\n",
      "step 1400: train loss 2.2829, val loss 2.3241\n",
      "step 1500: train loss 2.2470, val loss 2.3076\n",
      "step 1600: train loss 2.2596, val loss 2.3069\n",
      "step 1700: train loss 2.2293, val loss 2.2894\n",
      "step 1800: train loss 2.2176, val loss 2.2833\n",
      "step 1900: train loss 2.2204, val loss 2.2749\n",
      "step 2000: train loss 2.2058, val loss 2.2606\n",
      "step 2100: train loss 2.2061, val loss 2.2590\n",
      "step 2200: train loss 2.1831, val loss 2.2444\n",
      "step 2300: train loss 2.1906, val loss 2.2359\n",
      "step 2400: train loss 2.1670, val loss 2.2279\n",
      "step 2500: train loss 2.1587, val loss 2.2299\n",
      "step 2600: train loss 2.1362, val loss 2.1934\n",
      "step 2700: train loss 2.1345, val loss 2.1898\n",
      "step 2800: train loss 2.1230, val loss 2.1867\n",
      "step 2900: train loss 2.1275, val loss 2.1932\n",
      "step 3000: train loss 2.1133, val loss 2.1793\n",
      "step 3100: train loss 2.0858, val loss 2.1841\n",
      "step 3200: train loss 2.0844, val loss 2.1702\n",
      "step 3300: train loss 2.0749, val loss 2.1514\n",
      "step 3400: train loss 2.0654, val loss 2.1368\n",
      "step 3500: train loss 2.0567, val loss 2.1453\n",
      "step 3600: train loss 2.0480, val loss 2.1437\n",
      "step 3700: train loss 2.0222, val loss 2.1071\n",
      "step 3800: train loss 2.0273, val loss 2.1131\n",
      "step 3900: train loss 2.0254, val loss 2.1046\n",
      "step 3999: train loss 2.0105, val loss 2.0911\n"
     ]
    }
   ],
   "source": [
    "loss_hist_disable = train()"
   ]
  },
  {
   "cell_type": "code",
   "execution_count": 11,
   "id": "61dc121c-7223-4b11-ab4b-ef4a82802dd6",
   "metadata": {},
   "outputs": [
    {
     "name": "stdout",
     "output_type": "stream",
     "text": [
      "\n",
      "Wheren chas a mid\n",
      "mistes.:\n",
      "Thou sweren; a sare tom, hee cheou reaieltus ceay to creade\n",
      "O sitenentee\n",
      "Oumed dadess the make treed onkme\n",
      "As spase allonge all,\n",
      "I'll, if therem.\n",
      "\n",
      "REONIN:\n",
      "Lot nean, nieringle, our bourk you be core inut\n",
      "tim fralese\n",
      "Wet frond freas thald, now me may is meaicens,\n",
      "And with sirlle lay weche tlear, my\n",
      "A whend this theen, seay, dor le. is whoh gare eld fother untraist 'tow!\n",
      "O, whire ye, a'ke a tof exe preaitan ssed mired swithes sus a lint\n",
      "me\n",
      "weh is that um be seely tiese me'\n",
      "Lereie,\n",
      "Then us I thee diner; annceae the our kine?\n",
      "\n",
      "\n",
      "DADYCEO:\n",
      "SBEO:\n",
      "Is ant nurere: yo gou castikef.\n",
      "\n",
      "SFROUCETES:\n",
      "Not a te bequttherem!\n",
      "\n",
      "LONUM:\n",
      "OrtNt o comestsire, is fo ushir. A thrve upon, a dife noreriomesn us and\n",
      "Fo our dinered, you beinghter\n",
      "Thee thee mas we he dingen\n",
      "strelersines.\n",
      "Aher he plookede?\n",
      "\n",
      "Turs dead ith shis sereraevess\n",
      "Tegal fay,\n",
      "A CO the as scay tallvenie he mo the ands\n",
      "Sealy, cos The prooon.\n",
      "\n",
      "Werkeare, me whechereong mo the pis this froredsem cortacion\n",
      "As the ricke-pele sive\n"
     ]
    }
   ],
   "source": [
    "generate_text()"
   ]
  },
  {
   "cell_type": "markdown",
   "id": "9b541285-56b8-41ff-8b42-466937b736d1",
   "metadata": {},
   "source": [
    "# Training a transformer model with trainable K,Q,V in self-attention mechanism"
   ]
  },
  {
   "cell_type": "markdown",
   "id": "ebf7b156-6801-40ba-9866-9fd43a134fe9",
   "metadata": {},
   "source": [
    "Now, let's make key, query and value weights to be learnable."
   ]
  },
  {
   "cell_type": "code",
   "execution_count": 12,
   "id": "cc756def-77e5-465d-af60-fcbe87a8c894",
   "metadata": {},
   "outputs": [],
   "source": [
    "disable_kqv_weights = False"
   ]
  },
  {
   "cell_type": "code",
   "execution_count": 13,
   "id": "36bbaa73-fa5f-4cf1-9fe4-8f945e16992d",
   "metadata": {},
   "outputs": [],
   "source": [
    "max_iters = 4000"
   ]
  },
  {
   "cell_type": "code",
   "execution_count": 14,
   "id": "9d390742-c100-4135-b1b3-6b0f62748559",
   "metadata": {},
   "outputs": [
    {
     "name": "stdout",
     "output_type": "stream",
     "text": [
      "Download successful!\n",
      "0.209729 M parameters\n"
     ]
    }
   ],
   "source": [
    "text, vocab_size = get_training_corpus()\n",
    "train_data, val_data = train_val_split(text)\n",
    "\n",
    "m = SimpleLanguageModel(\n",
    "    vocab_size, n_embd, block_size, n_head, n_layer, dropout, device, disable_kqv_weights\n",
    "    )\n",
    "model = m.to(device)\n",
    "print(sum(p.numel() for p in model.parameters()) / 1e6, \"M parameters\")\n",
    "optimizer = torch.optim.AdamW(model.parameters(), lr=learning_rate)"
   ]
  },
  {
   "cell_type": "code",
   "execution_count": 15,
   "id": "6ee355ca-1953-448b-bcff-b3bf2c96423a",
   "metadata": {},
   "outputs": [
    {
     "name": "stdout",
     "output_type": "stream",
     "text": [
      "step 0: train loss 4.3197, val loss 4.3145\n",
      "step 100: train loss 2.6481, val loss 2.6700\n",
      "step 200: train loss 2.5227, val loss 2.5400\n",
      "step 300: train loss 2.4226, val loss 2.4436\n",
      "step 400: train loss 2.3499, val loss 2.3804\n",
      "step 500: train loss 2.3035, val loss 2.3360\n",
      "step 600: train loss 2.2449, val loss 2.2846\n",
      "step 700: train loss 2.2264, val loss 2.2407\n",
      "step 800: train loss 2.1664, val loss 2.2041\n",
      "step 900: train loss 2.1476, val loss 2.1885\n",
      "step 1000: train loss 2.1051, val loss 2.1459\n",
      "step 1100: train loss 2.0639, val loss 2.1364\n",
      "step 1200: train loss 2.0366, val loss 2.1196\n",
      "step 1300: train loss 2.0174, val loss 2.0779\n",
      "step 1400: train loss 1.9856, val loss 2.0697\n",
      "step 1500: train loss 1.9716, val loss 2.0456\n",
      "step 1600: train loss 1.9460, val loss 2.0326\n",
      "step 1700: train loss 1.9245, val loss 2.0116\n",
      "step 1800: train loss 1.9041, val loss 1.9951\n",
      "step 1900: train loss 1.8922, val loss 1.9989\n",
      "step 2000: train loss 1.8627, val loss 1.9839\n",
      "step 2100: train loss 1.8663, val loss 1.9719\n",
      "step 2200: train loss 1.8431, val loss 1.9727\n",
      "step 2300: train loss 1.8489, val loss 1.9577\n",
      "step 2400: train loss 1.8266, val loss 1.9555\n",
      "step 2500: train loss 1.8315, val loss 1.9488\n",
      "step 2600: train loss 1.8115, val loss 1.9567\n",
      "step 2700: train loss 1.7913, val loss 1.9300\n",
      "step 2800: train loss 1.7760, val loss 1.9127\n",
      "step 2900: train loss 1.7697, val loss 1.9375\n",
      "step 3000: train loss 1.7651, val loss 1.8932\n",
      "step 3100: train loss 1.7441, val loss 1.8979\n",
      "step 3200: train loss 1.7459, val loss 1.8951\n",
      "step 3300: train loss 1.7499, val loss 1.8932\n",
      "step 3400: train loss 1.7319, val loss 1.8903\n",
      "step 3500: train loss 1.7304, val loss 1.9026\n",
      "step 3600: train loss 1.7117, val loss 1.8893\n",
      "step 3700: train loss 1.7018, val loss 1.8830\n",
      "step 3800: train loss 1.7052, val loss 1.8681\n",
      "step 3900: train loss 1.7045, val loss 1.8844\n",
      "step 3999: train loss 1.7032, val loss 1.8660\n"
     ]
    }
   ],
   "source": [
    "loss_hist_enable = train()"
   ]
  },
  {
   "cell_type": "code",
   "execution_count": 16,
   "id": "bf5932c7-200e-4f25-863c-fe58ce1d4ca5",
   "metadata": {},
   "outputs": [
    {
     "name": "stdout",
     "output_type": "stream",
     "text": [
      "\n",
      "\n",
      "FDOMISHOND:\n",
      "Ay here of Hake parly lont: thus conted: who seif\n",
      "him, your have ballyous Tom: good countected, and mady lissmest\n",
      "Has mosce and my withle, si', wildle from rety-bother.\n",
      "\n",
      "WARWICK:\n",
      "Let you wand besen a dark feares;\n",
      "This was mI comest as that O' bate down,\n",
      "Shile wonder, not dameling anight forge to is spirion; me with thy kice;\n",
      "And fory ound father vedly: lone\n",
      "Firticio's that it would stence be the cruty,\n",
      "Yis will with time the death, I am canted take heard of\n",
      "Wecre the lings on notislaid hate.\n",
      "\n",
      "LEONTES:\n",
      "Now, but you take how thing the that have not c.\n",
      "\n",
      "PRINCE\n",
      "Her denante there's country heaven: whith in stersing slee you manigh'd, own had is no day.\n",
      "\n",
      "CAMINIUS:\n",
      "I me that to marry and what how to me\n",
      "the affecome is it, I fortuxe yout\n",
      "As his not stand hhavp, take, you appein desen.\n",
      "What\n",
      "Richard compeac it priquon, yoak way,\n",
      "Wanty weret this elfnercent do throw.\n",
      "\n",
      "COMIONE EDWAGUS:\n",
      "A wome?'s not the revife, thought the love fear I pecondes\n",
      "Upon ladve the sigh of of come of might:\n",
      "\n"
     ]
    }
   ],
   "source": [
    "generate_text()"
   ]
  },
  {
   "cell_type": "markdown",
   "id": "0e6f9d8f-cdd3-43e8-90e4-c368e2047ae9",
   "metadata": {},
   "source": [
    "You can see the quality of generate text is quite different. Most importantly, with properly working self-attention mechanism, the character generations are more consistent since contextual information is accounted for."
   ]
  },
  {
   "cell_type": "code",
   "execution_count": 17,
   "id": "2f3c544c-7743-4fde-93cd-e9ed9557b0b9",
   "metadata": {},
   "outputs": [
    {
     "data": {
      "image/png": "[encoded data removed]",
      "text/plain": [
       "<Figure size 1000x600 with 1 Axes>"
      ]
     },
     "metadata": {},
     "output_type": "display_data"
    }
   ],
   "source": [
    "plot_loss(['KQV Not Learnable', 'KQV Learnable'], loss_hist_disable, loss_hist_enable)"
   ]
  },
  {
   "cell_type": "markdown",
   "id": "f14d6604-2bc9-4d5b-9069-60a0f95bc7b3",
   "metadata": {},
   "source": [
    "As you can see, Key, Query and Value weights are pretty important for training a transformer language model with self-attention mechanism. Self-attention mechanism's only learnable parts are the K, Q, V weight matrices. Apart from that, self-attention mechansism has no learnable components."
   ]
  },
  {
   "cell_type": "markdown",
   "id": "f89cdc93-97be-4dce-b1db-55a79ece0065",
   "metadata": {},
   "source": [
    "The importance of self-attention mechansim with learnable K, Q, V weight matrices will be more apparent if the language model is a word level or sub-word level since it will have a huge vocab size."
   ]
  }
 ],
 "metadata": {
  "kernelspec": {
   "display_name": "Python 3 (ipykernel)",
   "language": "python",
   "name": "python3"
  },
  "language_info": {
   "codemirror_mode": {
    "name": "ipython",
    "version": 3
   },
   "file_extension": ".py",
   "mimetype": "text/x-python",
   "name": "python",
   "nbconvert_exporter": "python",
   "pygments_lexer": "ipython3",
   "version": "3.9.16"
  }
 },
 "nbformat": 4,
 "nbformat_minor": 5
}
